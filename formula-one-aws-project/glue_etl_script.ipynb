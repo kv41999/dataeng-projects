{
	"cells": [
		{
			"cell_type": "code",
			"execution_count": null,
			"metadata": {
				"editable": true,
				"trusted": true
			},
			"outputs": [],
			"source": [
				"%idle_timeout 2880\n",
				"%glue_version 3.0\n",
				"%worker_type G.1X\n",
				"%number_of_workers 2\n",
				"\n",
				"import sys\n",
				"from awsglue.transforms import *\n",
				"from awsglue.utils import getResolvedOptions\n",
				"from pyspark.context import SparkContext\n",
				"from awsglue.context import GlueContext\n",
				"from awsglue.job import Job\n",
				"from pyspark.sql.functions import *\n",
				"from awsglue.dynamicframe import DynamicFrame\n",
				"  \n",
				"sc = SparkContext.getOrCreate()\n",
				"glueContext = GlueContext(sc)\n",
				"spark = glueContext.spark_session\n",
				"job = Job(glueContext)"
			]
		},
		{
			"cell_type": "code",
			"execution_count": null,
			"metadata": {
				"editable": true,
				"trusted": true
			},
			"outputs": [],
			"source": [
				"race_dyf = (glueContext.create_dynamic_frame_from_options(connection_type='s3', \n",
				"                                                     connection_options={\"paths\":['s3://[BUCKET_NAME]/raw/race'],\"recurse\":True},\n",
				"                                                     format=\"json\",format_options={\"multiLine\": True}))\n",
				"quali_dyf = (glueContext.create_dynamic_frame_from_options(connection_type='s3', \n",
				"                                                     connection_options={\"paths\":['s3://[BUCKET_NAME]/raw/qualifying'],\"recurse\":True},\n",
				"                                                     format=\"json\",format_options={\"multiLine\": True}))"
			]
		},
		{
			"cell_type": "code",
			"execution_count": null,
			"metadata": {
				"editable": true,
				"trusted": true
			},
			"outputs": [],
			"source": [
				"race_df = race_dyf.toDF()\n",
				"quali_df = quali_dyf.toDF()"
			]
		},
		{
			"cell_type": "code",
			"execution_count": 15,
			"metadata": {
				"trusted": true
			},
			"outputs": [
				{
					"name": "stdout",
					"output_type": "stream",
					"text": [
						"\n"
					]
				}
			],
			"source": [
				"def struct_unravel(nested_df):\n",
				"    \n",
				"    list_schema = [((), nested_df)]\n",
				"\n",
				"    flat_columns = []\n",
				"\n",
				"    while len(list_schema) > 0:\n",
				"\n",
				"          parents, df = list_schema.pop()\n",
				"          flat_cols = [  col(\".\".join(parents + (c[0],))).alias(\"_\".join(parents + (c[0],))) for c in df.dtypes if c[1][:6] != \"struct\"   ]\n",
				"      \n",
				"          struct_cols = [  c[0]   for c in df.dtypes if c[1][:6] == \"struct\"   ]\n",
				"      \n",
				"          flat_columns.extend(flat_cols)\n",
				"          for i in struct_cols:\n",
				"                projected_df = df.select(i + \".*\")\n",
				"                list_schema.append((parents + (i,), projected_df))\n",
				"    return nested_df.select(flat_columns)"
			]
		},
		{
			"cell_type": "code",
			"execution_count": null,
			"metadata": {},
			"outputs": [],
			"source": [
				"def array_unnesting(df):\n",
				"    array_cols = [c[0] for c in df.dtypes if c[1][:5]==\"array\"]\n",
				"    while len(array_cols)>0:\n",
				"        for c in array_cols:\n",
				"            df = df.withColumn(c,explode_outer(c))\n",
				"        df = struct_unravel(df)\n",
				"        array_cols = [c[0] for c in df.dtypes if c[1][:5]==\"array\"]\n",
				"    return df"
			]
		},
		{
			"cell_type": "code",
			"execution_count": null,
			"metadata": {},
			"outputs": [],
			"source": [
				"race_df = array_unnesting(race_df)\n",
				"quali_df = array_unnesting(quali_df)"
			]
		},
		{
			"cell_type": "code",
			"execution_count": null,
			"metadata": {},
			"outputs": [],
			"source": [
				"def column_name_correction(df):    \n",
				"    for i in df.columns:\n",
				"        if \"_url\" in i:\n",
				"            df = df.drop(i)\n",
				"        else:\n",
				"            temp = i.removeprefix(\"data_\").lower()\n",
				"            df = df.withColumnRenamed(i,temp)"
			]
		},
		{
			"cell_type": "code",
			"execution_count": null,
			"metadata": {},
			"outputs": [],
			"source": [
				"column_name_correction(race_df)\n",
				"column_name_correction(quali_df)"
			]
		},
		{
			"cell_type": "code",
			"execution_count": null,
			"metadata": {},
			"outputs": [],
			"source": [
				"race_dyf = DynamicFrame.fromDF(race_df,glueContext,\"race_dynamic_frame\")\n",
				"quali_dyf = DynamicFrame.fromDF(quali_df,glueContext,\"quali_dynamic_frame\")"
			]
		},
		{
			"cell_type": "code",
			"execution_count": 21,
			"metadata": {
				"editable": true,
				"trusted": true
			},
			"outputs": [
				{
					"name": "stdout",
					"output_type": "stream",
					"text": [
						"<awsglue.dynamicframe.DynamicFrame object at 0x7f4eae1f4bd0>\n"
					]
				}
			],
			"source": [
				"s3outputRace = glueContext.getSink(\n",
				"  path=\"s3://[BUCKET_NAME]/Processed/race/\",\n",
				"  connection_type=\"s3\",\n",
				"  updateBehavior=\"UPDATE IN DATABASE AND APPEND\",\n",
				"  partitionKeys=[\"season\",\"round\"],\n",
				"  compression=\"snappy\",\n",
				"  enableUpdateCatalog=True,\n",
				"  transformation_ctx=\"s3output\",\n",
				")\n",
				"s3outputRace.setCatalogInfo(\n",
				"  catalogDatabase=\"[DB_NAME]\", catalogTableName=\"raceResults\"\n",
				")\n",
				"s3outputRace.setFormat(\"glueparquet\")\n",
				"s3outputRace.writeFrame(race_dyf)"
			]
		},
		{
			"cell_type": "code",
			"execution_count": null,
			"metadata": {},
			"outputs": [],
			"source": [
				"s3outputRace = glueContext.getSink(\n",
				"  path=\"s3://[BUCKET_NAME]/Processed/quali/\",\n",
				"  connection_type=\"s3\",\n",
				"  updateBehavior=\"APPEND\",\n",
				"  partitionKeys=[\"season\",\"round\"],\n",
				"  compression=\"snappy\",\n",
				"  enableUpdateCatalog=True,\n",
				"  transformation_ctx=\"s3output\",\n",
				")\n",
				"s3outputRace.setCatalogInfo(\n",
				"  catalogDatabase=\"[DB_NAME]\", catalogTableName=\"qualiResults\"\n",
				")\n",
				"s3outputRace.setFormat(\"glueparquet\")\n",
				"s3outputRace.writeFrame(quali_dyf)"
			]
		}
	],
	"metadata": {
		"kernelspec": {
			"display_name": "base",
			"language": "python",
			"name": "python3"
		},
		"language_info": {
			"codemirror_mode": {
				"name": "ipython",
				"version": 3
			},
			"file_extension": ".py",
			"mimetype": "text/x-python",
			"name": "python",
			"nbconvert_exporter": "python",
			"pygments_lexer": "ipython3",
			"version": "3.9.12"
		}
	},
	"nbformat": 4,
	"nbformat_minor": 4
}
