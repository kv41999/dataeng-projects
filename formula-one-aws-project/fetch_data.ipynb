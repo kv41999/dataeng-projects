{
 "cells": [
  {
   "cell_type": "code",
   "execution_count": 6,
   "metadata": {},
   "outputs": [],
   "source": [
    "import json\n",
    "import requests\n",
    "import boto3"
   ]
  },
  {
   "cell_type": "code",
   "execution_count": 4,
   "metadata": {},
   "outputs": [],
   "source": [
    "session = (boto3.Session(aws_access_key_id=\"[ACCESS_KEY]\",\n",
    "                         aws_secret_access_key=\"[SECRET_ACCESS_KEY]\",\n",
    "                         region_name=\"[REGION_NAME]\"))\n",
    "s3 = session.resource(\"s3\")"
   ]
  },
  {
   "cell_type": "code",
   "execution_count": 27,
   "metadata": {},
   "outputs": [],
   "source": [
    "for i in range(2010,2021):\n",
    "    offset = 0\n",
    "    response = requests.get(f\"http://ergast.com/api/f1/{i}/results.json\", params={\"offset\":offset})\n",
    "    resp = response.json()\n",
    "    final = []\n",
    "    limit = int(resp[\"MRData\"][\"limit\"])\n",
    "    total = int(resp[\"MRData\"][\"total\"])\n",
    "    while offset < total:\n",
    "        response = requests.get(f\"http://ergast.com/api/f1/{i}/results.json\", params={\"offset\":offset})\n",
    "        resp = response.json()\n",
    "        resp = resp[\"MRData\"][\"RaceTable\"][\"Races\"]\n",
    "        final += resp\n",
    "        offset += limit\n",
    "    final = {\"data\":final}\n",
    "    object = s3.Object(\"[BUCKET_NAME]\",f\"raw/race/results-{i}.json\")\n",
    "    result = object.put(Body = json.dumps(final).encode(\"utf-8\"))\n",
    "        "
   ]
  },
  {
   "cell_type": "code",
   "execution_count": 11,
   "metadata": {},
   "outputs": [],
   "source": [
    "for i in range(2010,2021):\n",
    "    offset = 0\n",
    "    response = requests.get(f\"http://ergast.com/api/f1/{i}/qualifying.json\", params={\"offset\":offset})\n",
    "    resp = response.json()\n",
    "    final = []\n",
    "    limit = int(resp[\"MRData\"][\"limit\"])\n",
    "    total = int(resp[\"MRData\"][\"total\"])\n",
    "    while offset < total:\n",
    "        response = requests.get(f\"http://ergast.com/api/f1/{i}/qualifying.json\", params={\"offset\":offset})\n",
    "        resp = response.json()\n",
    "        resp = resp[\"MRData\"][\"RaceTable\"][\"Races\"]\n",
    "        final += resp\n",
    "        offset += limit\n",
    "    final = {\"data\":final}\n",
    "    object = s3.Object(\"[BUCKET_NAME]\",f\"raw/qualifying/results-{i}.json\")\n",
    "    result = object.put(Body = json.dumps(final).encode(\"utf-8\"))"
   ]
  }
 ],
 "metadata": {
  "kernelspec": {
   "display_name": "base",
   "language": "python",
   "name": "python3"
  },
  "language_info": {
   "codemirror_mode": {
    "name": "ipython",
    "version": 3
   },
   "file_extension": ".py",
   "mimetype": "text/x-python",
   "name": "python",
   "nbconvert_exporter": "python",
   "pygments_lexer": "ipython3",
   "version": "3.9.12"
  },
  "orig_nbformat": 4
 },
 "nbformat": 4,
 "nbformat_minor": 2
}
